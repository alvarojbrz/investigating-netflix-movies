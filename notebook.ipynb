{
 "cells": [
  {
   "cell_type": "markdown",
   "id": "937acf3c-c077-4ca6-8d90-8f6dd4d13c54",
   "metadata": {
    "id": "937acf3c-c077-4ca6-8d90-8f6dd4d13c54"
   },
   "source": [
    "<center><img src=\"redpopcorn.png\"></center>"
   ]
  },
  {
   "cell_type": "markdown",
   "id": "5962b2cd-17bb-4ec9-b2d5-68537ca26860",
   "metadata": {
    "id": "5962b2cd-17bb-4ec9-b2d5-68537ca26860"
   },
   "source": [
    "**Netflix**! What started in 1997 as a DVD rental service has since exploded into one of the largest entertainment and media companies.\n",
    "\n",
    "Given the large number of movies and series available on the platform, it is a perfect opportunity to flex your exploratory data analysis skills and dive into the entertainment industry.\n",
    "\n",
    "You work for a production company that specializes in nostalgic styles. You want to do some research on movies released in the 1990's. You'll delve into Netflix data and perform exploratory data analysis to better understand this awesome movie decade!\n",
    "\n",
    "You have been supplied with the dataset `netflix_data.csv`, along with the following table detailing the column names and descriptions. Feel free to experiment further after submitting!\n",
    "\n",
    "## The data\n",
    "### **netflix_data.csv**\n",
    "| Column | Description |\n",
    "|--------|-------------|\n",
    "| `show_id` | The ID of the show |\n",
    "| `type` | Type of show |\n",
    "| `title` | Title of the show |\n",
    "| `director` | Director of the show |\n",
    "| `cast` | Cast of the show |\n",
    "| `country` | Country of origin |\n",
    "| `date_added` | Date added to Netflix |\n",
    "| `release_year` | Year of Netflix release |\n",
    "| `duration` | Duration of the show in minutes |\n",
    "| `description` | Description of the show |\n",
    "| `genre` | Show genre |"
   ]
  },
  {
   "cell_type": "code",
   "execution_count": null,
   "id": "320a3abc-8a36-4b2b-baaf-473325363a4d",
   "metadata": {
    "executionCancelledAt": null,
    "executionTime": 54,
    "id": "320a3abc-8a36-4b2b-baaf-473325363a4d",
    "lastExecutedAt": 1736791586414,
    "lastExecutedByKernel": "f326d44b-1881-4367-bfe2-8d8dd4858b93",
    "lastScheduledRunId": null,
    "lastSuccessfullyExecutedCode": "# Importing pandas and matplotlib\nimport pandas as pd\nimport matplotlib.pyplot as plt\n\n# Read in the Netflix CSV as a DataFrame\nnetflix_df = pd.read_csv(\"netflix_data.csv\")"
   },
   "outputs": [],
   "source": [
    "# Importing pandas and matplotlib\n",
    "import pandas as pd\n",
    "import matplotlib.pyplot as plt\n",
    "\n",
    "# Read in the Netflix CSV as a DataFrame\n",
    "netflix_df = pd.read_csv(\"netflix_data.csv\")"
   ]
  },
  {
   "cell_type": "code",
   "execution_count": null,
   "id": "a365d5e0-5c39-4c2a-81a6-f3fed8942e8c",
   "metadata": {
    "executionCancelledAt": null,
    "executionTime": 56,
    "id": "a365d5e0-5c39-4c2a-81a6-f3fed8942e8c",
    "lastExecutedAt": 1736791586519,
    "lastExecutedByKernel": "f326d44b-1881-4367-bfe2-8d8dd4858b93",
    "lastScheduledRunId": null,
    "lastSuccessfullyExecutedCode": "print(netflix_df['type'])",
    "outputId": "62a18a74-302f-4e4e-c477-3bf76b137e6b",
    "outputsMetadata": {
     "0": {
      "height": 269,
      "type": "stream"
     }
    }
   },
   "outputs": [
    {
     "name": "stdout",
     "output_type": "stream",
     "text": [
      "0         Movie\n",
      "1         Movie\n",
      "2         Movie\n",
      "3         Movie\n",
      "4       TV Show\n",
      "         ...   \n",
      "4807      Movie\n",
      "4808      Movie\n",
      "4809      Movie\n",
      "4810      Movie\n",
      "4811      Movie\n",
      "Name: type, Length: 4812, dtype: object\n"
     ]
    }
   ],
   "source": [
    "print(netflix_df['type'])"
   ]
  },
  {
   "cell_type": "markdown",
   "id": "1ZunBfmIZEoB",
   "metadata": {
    "id": "1ZunBfmIZEoB"
   },
   "source": [
    "## What was the most frequent movie duration in the 1990s?\n",
    "Save an approximate answer as an integer called duration (use 1990 as the decade's start year).\n",
    "\n",
    "First, let's filter by movies **released in the 1990s**:"
   ]
  },
  {
   "cell_type": "code",
   "execution_count": null,
   "id": "f0abe46b-d210-414b-baa2-75f4c743158c",
   "metadata": {
    "executionCancelledAt": null,
    "executionTime": 52,
    "id": "f0abe46b-d210-414b-baa2-75f4c743158c",
    "lastExecutedAt": 1736791586675,
    "lastExecutedByKernel": "f326d44b-1881-4367-bfe2-8d8dd4858b93",
    "lastScheduledRunId": null,
    "lastSuccessfullyExecutedCode": "# Primeiro, vamos filtrar os filmes lançados nos anos 90\n\nmovies = netflix_df[(netflix_df['type'] == 'Movie') & (netflix_df['release_year'] >= 1990) & (netflix_df['release_year'] <= 1999)]\n\nprint(movies)",
    "outputId": "feec5f35-a6b2-45a1-e9d8-c4929fc79cfc",
    "outputsMetadata": {
     "0": {
      "height": 311,
      "type": "stream"
     }
    }
   },
   "outputs": [
    {
     "name": "stdout",
     "output_type": "stream",
     "text": [
      "     show_id  ...           genre\n",
      "6         s8  ...          Dramas\n",
      "118     s167  ...          Dramas\n",
      "145     s211  ...        Comedies\n",
      "167     s239  ...        Comedies\n",
      "194     s274  ...          Dramas\n",
      "...      ...  ...             ...\n",
      "4672   s7536  ...          Dramas\n",
      "4689   s7571  ...  Classic Movies\n",
      "4718   s7624  ...          Action\n",
      "4746   s7682  ...          Action\n",
      "4756   s7695  ...          Dramas\n",
      "\n",
      "[183 rows x 11 columns]\n"
     ]
    }
   ],
   "source": [
    "movies = netflix_df[(netflix_df['type'] == 'Movie') & (netflix_df['release_year'] >= 1990) & (netflix_df['release_year'] <= 1999)]\n",
    "\n",
    "print(movies)"
   ]
  },
  {
   "cell_type": "markdown",
   "id": "weJGm6oxZXde",
   "metadata": {
    "id": "weJGm6oxZXde"
   },
   "source": [
    "We'll use the **` mode()`** function to find the most frequent value in duration\n"
   ]
  },
  {
   "cell_type": "code",
   "execution_count": null,
   "id": "094d9701-bb56-439c-bcdd-5bfe4af82495",
   "metadata": {
    "executionCancelledAt": null,
    "executionTime": 56,
    "id": "094d9701-bb56-439c-bcdd-5bfe4af82495",
    "lastExecutedAt": 1736791586731,
    "lastExecutedByKernel": "f326d44b-1881-4367-bfe2-8d8dd4858b93",
    "lastScheduledRunId": null,
    "lastSuccessfullyExecutedCode": "# Utilizaremos a função mode() para encontrar o valor mais frequente em duration\n\nduration = int(movies['duration'].mode())\nprint(duration)",
    "outputId": "f6fd56cd-c2df-4219-ddf6-88c1dd99bb58",
    "outputsMetadata": {
     "0": {
      "height": 38,
      "type": "stream"
     }
    }
   },
   "outputs": [
    {
     "name": "stdout",
     "output_type": "stream",
     "text": [
      "94\n"
     ]
    }
   ],
   "source": [
    "duration = int(movies['duration'].mode())\n",
    "print(duration)"
   ]
  },
  {
   "cell_type": "markdown",
   "id": "TMRhppt8Y2ln",
   "metadata": {
    "id": "TMRhppt8Y2ln"
   },
   "source": [
    "## A movie is considered short if it is less than 90 minutes!\n",
    "\n",
    "Count the number of short action movies released in the 1990s and save this integer as short_movie_count.\n"
   ]
  },
  {
   "cell_type": "code",
   "execution_count": null,
   "id": "a43d9b6b-b235-45c0-b0c0-74e08ed147b2",
   "metadata": {
    "executionCancelledAt": null,
    "executionTime": 56,
    "id": "a43d9b6b-b235-45c0-b0c0-74e08ed147b2",
    "lastExecutedAt": 1736791586787,
    "lastExecutedByKernel": "f326d44b-1881-4367-bfe2-8d8dd4858b93",
    "lastScheduledRunId": null,
    "lastSuccessfullyExecutedCode": "short_movie = movies[(movies['duration'] < 90) & (movies['genre'] == 'Action')]\n\nshort_movie_count = short_movie['show_id'].count()\n\nprint(short_movie_count)",
    "outputId": "d7715b8d-2134-40e3-fb10-3cc6e4cfa39d",
    "outputsMetadata": {
     "0": {
      "height": 38,
      "type": "stream"
     }
    }
   },
   "outputs": [
    {
     "name": "stdout",
     "output_type": "stream",
     "text": [
      "7\n"
     ]
    }
   ],
   "source": [
    "short_movie = movies[(movies['duration'] < 90) & (movies['genre'] == 'Action')]\n",
    "short_movie_count = short_movie['show_id'].count()\n",
    "\n",
    "print(short_movie_count)"
   ]
  }
 ],
 "metadata": {
  "colab": {
   "provenance": []
  },
  "editor": "DataLab",
  "kernelspec": {
   "display_name": "Python 3 (ipykernel)",
   "language": "python",
   "name": "python3"
  },
  "language_info": {
   "codemirror_mode": {
    "name": "ipython",
    "version": 3
   },
   "file_extension": ".py",
   "mimetype": "text/x-python",
   "name": "python",
   "nbconvert_exporter": "python",
   "pygments_lexer": "ipython3",
   "version": "3.11.10"
  }
 },
 "nbformat": 4,
 "nbformat_minor": 5
}
